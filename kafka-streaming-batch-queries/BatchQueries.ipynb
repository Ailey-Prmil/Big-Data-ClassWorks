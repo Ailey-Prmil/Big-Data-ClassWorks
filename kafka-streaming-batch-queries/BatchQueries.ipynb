{
 "cells": [
  {
   "cell_type": "code",
   "execution_count": 6,
   "id": "a7dbad72",
   "metadata": {},
   "outputs": [],
   "source": [
    "from pyspark.sql import SparkSession\n",
    "\n",
    "scala_version = '2.13'\n",
    "spark_version = '3.5.5'\n",
    "packages = [ f'org.apache.spark:spark-sql-kafka-0-10_{scala_version}:{spark_version}','org.apache.kafka:kafka-clients:2.10.0']\n",
    "spark = SparkSession.builder.master('local')\\\n",
    ".appName(\"kafka-example\").config(\"spark.jars.packages\", \",\".join(packages))\\\n",
    ".config(\"spark.memory.offHeap.enabled\",\"true\")\\\n",
    ".config(\"spark.memory.offHeap.size\",\"10g\")\\\n",
    ".config(\"spark.driver.memory\", \"16g\")\\\n",
    ".getOrCreate()"
   ]
  },
  {
   "cell_type": "code",
   "execution_count": 7,
   "id": "fde54fb5",
   "metadata": {},
   "outputs": [],
   "source": [
    "import os\n",
    "import sys\n",
    "\n",
    "os.environ['PYSPARK_PYTHON'] = sys.executable\n",
    "os.environ['PYSPARK_DRIVER_PYTHON'] = sys.executable"
   ]
  },
  {
   "cell_type": "code",
   "execution_count": 8,
   "id": "c15726bd",
   "metadata": {},
   "outputs": [],
   "source": [
    "topic_name = 'RandomNumberStreaming'\n",
    "kafka_server = 'localhost:9092'\n",
    "kafkaDf = spark.read.format(\"kafka\")\\\n",
    ".option(\"kafka.bootstrap.servers\", \"localhost:9092\")\\\n",
    ".option(\"subscribe\", topic_name)\\\n",
    ".option(\"startingOffsets\", \"earliest\")\\\n",
    ".load()"
   ]
  },
  {
   "cell_type": "code",
   "execution_count": 9,
   "id": "b69b5a32",
   "metadata": {},
   "outputs": [],
   "source": [
    "from pyspark.sql.functions import col\n",
    "batchDF = kafkaDf.select(col('topic'),col('offset'),col('value').cast('string').alias('rand_number'))"
   ]
  },
  {
   "cell_type": "code",
   "execution_count": 11,
   "id": "017fa670",
   "metadata": {},
   "outputs": [
    {
     "name": "stdout",
     "output_type": "stream",
     "text": [
      "Showing live view refreshed every 5 seconds\n",
      "Seconds passed: 355\n"
     ]
    },
    {
     "data": {
      "text/html": [
       "<div>\n",
       "<style scoped>\n",
       "    .dataframe tbody tr th:only-of-type {\n",
       "        vertical-align: middle;\n",
       "    }\n",
       "\n",
       "    .dataframe tbody tr th {\n",
       "        vertical-align: top;\n",
       "    }\n",
       "\n",
       "    .dataframe thead th {\n",
       "        text-align: right;\n",
       "    }\n",
       "</style>\n",
       "<table border=\"1\" class=\"dataframe\">\n",
       "  <thead>\n",
       "    <tr style=\"text-align: right;\">\n",
       "      <th></th>\n",
       "      <th>topic</th>\n",
       "      <th>offset</th>\n",
       "      <th>rand_number</th>\n",
       "    </tr>\n",
       "  </thead>\n",
       "  <tbody>\n",
       "    <tr>\n",
       "      <th>0</th>\n",
       "      <td>RandomNumberStreaming</td>\n",
       "      <td>0</td>\n",
       "      <td>\"65\"</td>\n",
       "    </tr>\n",
       "    <tr>\n",
       "      <th>1</th>\n",
       "      <td>RandomNumberStreaming</td>\n",
       "      <td>1</td>\n",
       "      <td>\"54\"</td>\n",
       "    </tr>\n",
       "    <tr>\n",
       "      <th>2</th>\n",
       "      <td>RandomNumberStreaming</td>\n",
       "      <td>2</td>\n",
       "      <td>\"91\"</td>\n",
       "    </tr>\n",
       "    <tr>\n",
       "      <th>3</th>\n",
       "      <td>RandomNumberStreaming</td>\n",
       "      <td>3</td>\n",
       "      <td>\"12\"</td>\n",
       "    </tr>\n",
       "    <tr>\n",
       "      <th>4</th>\n",
       "      <td>RandomNumberStreaming</td>\n",
       "      <td>4</td>\n",
       "      <td>\"88\"</td>\n",
       "    </tr>\n",
       "    <tr>\n",
       "      <th>...</th>\n",
       "      <td>...</td>\n",
       "      <td>...</td>\n",
       "      <td>...</td>\n",
       "    </tr>\n",
       "    <tr>\n",
       "      <th>250</th>\n",
       "      <td>RandomNumberStreaming</td>\n",
       "      <td>250</td>\n",
       "      <td>\"80\"</td>\n",
       "    </tr>\n",
       "    <tr>\n",
       "      <th>251</th>\n",
       "      <td>RandomNumberStreaming</td>\n",
       "      <td>251</td>\n",
       "      <td>\"52\"</td>\n",
       "    </tr>\n",
       "    <tr>\n",
       "      <th>252</th>\n",
       "      <td>RandomNumberStreaming</td>\n",
       "      <td>252</td>\n",
       "      <td>\"75\"</td>\n",
       "    </tr>\n",
       "    <tr>\n",
       "      <th>253</th>\n",
       "      <td>RandomNumberStreaming</td>\n",
       "      <td>253</td>\n",
       "      <td>\"96\"</td>\n",
       "    </tr>\n",
       "    <tr>\n",
       "      <th>254</th>\n",
       "      <td>RandomNumberStreaming</td>\n",
       "      <td>254</td>\n",
       "      <td>\"69\"</td>\n",
       "    </tr>\n",
       "  </tbody>\n",
       "</table>\n",
       "<p>255 rows × 3 columns</p>\n",
       "</div>"
      ],
      "text/plain": [
       "                     topic  offset rand_number\n",
       "0    RandomNumberStreaming       0        \"65\"\n",
       "1    RandomNumberStreaming       1        \"54\"\n",
       "2    RandomNumberStreaming       2        \"91\"\n",
       "3    RandomNumberStreaming       3        \"12\"\n",
       "4    RandomNumberStreaming       4        \"88\"\n",
       "..                     ...     ...         ...\n",
       "250  RandomNumberStreaming     250        \"80\"\n",
       "251  RandomNumberStreaming     251        \"52\"\n",
       "252  RandomNumberStreaming     252        \"75\"\n",
       "253  RandomNumberStreaming     253        \"96\"\n",
       "254  RandomNumberStreaming     254        \"69\"\n",
       "\n",
       "[255 rows x 3 columns]"
      ]
     },
     "metadata": {},
     "output_type": "display_data"
    },
    {
     "name": "stdout",
     "output_type": "stream",
     "text": [
      "break\n",
      "Live view ended...\n"
     ]
    }
   ],
   "source": [
    "from time import sleep\n",
    "from IPython.display import display, clear_output\n",
    "for x in range(0, 100):\n",
    "    try:\n",
    "        print(\"Showing live view refreshed every 5 seconds\")\n",
    "        print(f\"Seconds passed: {x*5}\")\n",
    "        display(batchDF.toPandas())\n",
    "        sleep(5)\n",
    "        clear_output(wait=True)\n",
    "    except KeyboardInterrupt:\n",
    "        print(\"break\")\n",
    "        break\n",
    "print(\"Live view ended...\")\n"
   ]
  }
 ],
 "metadata": {
  "kernelspec": {
   "display_name": "kafka-streaming",
   "language": "python",
   "name": "python3"
  },
  "language_info": {
   "codemirror_mode": {
    "name": "ipython",
    "version": 3
   },
   "file_extension": ".py",
   "mimetype": "text/x-python",
   "name": "python",
   "nbconvert_exporter": "python",
   "pygments_lexer": "ipython3",
   "version": "3.13.2"
  }
 },
 "nbformat": 4,
 "nbformat_minor": 5
}
